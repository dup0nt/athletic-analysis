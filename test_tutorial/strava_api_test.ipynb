{
 "cells": [
  {
   "cell_type": "code",
   "execution_count": null,
   "metadata": {},
   "outputs": [],
   "source": [
    "import requests\n",
    "from requests.models import PreparedRequest\n",
    "import os\n",
    "from dotenv import load_dotenv\n",
    "import json\n",
    "import pandas as pd\n",
    "load_dotenv()"
   ]
  },
  {
   "cell_type": "markdown",
   "metadata": {},
   "source": [
    "### Important URL's"
   ]
  },
  {
   "cell_type": "code",
   "execution_count": null,
   "metadata": {},
   "outputs": [],
   "source": [
    "auth_url = \"https://www.strava.com/oauth/token\"\n",
    "activites_url = \"https://www.strava.com/api/v3/athlete/activities\""
   ]
  },
  {
   "cell_type": "markdown",
   "metadata": {},
   "source": [
    "# Refresh Token"
   ]
  },
  {
   "cell_type": "markdown",
   "metadata": {},
   "source": [
    "Step for obtaining a refresh token that allows to \"read_all\" instead of just reading a instance at a time (default). Requires a Auth on a webbrowser, which results in the code variable."
   ]
  },
  {
   "cell_type": "code",
   "execution_count": null,
   "metadata": {},
   "outputs": [],
   "source": [
    "\"\"\"\n",
    "https://www.strava.com/oauth/authorize?client_id=115052&redirect_uri=http://localhost&response_type=code&approval_prompt=auto&scope=activity:read_all\n",
    "\"\"\""
   ]
  },
  {
   "cell_type": "code",
   "execution_count": null,
   "metadata": {},
   "outputs": [],
   "source": [
    "code = \"0e3c260a8910acf7387befd3d38d4db2c4a009be\""
   ]
  },
  {
   "cell_type": "code",
   "execution_count": null,
   "metadata": {},
   "outputs": [],
   "source": [
    "payload = {\n",
    "    'client_id': '115052',\n",
    "    'client_secret': str(os.getenv(\"client_secret\")),\n",
    "    'code': code,\n",
    "    'grant_type': \"authorization_code\"\n",
    "}\n",
    "\n",
    "pos = requests.post(auth_url,data=payload).json()"
   ]
  },
  {
   "cell_type": "code",
   "execution_count": null,
   "metadata": {},
   "outputs": [],
   "source": [
    "refresh_token = pos['refresh_token']\n",
    "access_token = pos['access_token']"
   ]
  },
  {
   "cell_type": "markdown",
   "metadata": {},
   "source": [
    "# New Access Token"
   ]
  },
  {
   "cell_type": "code",
   "execution_count": null,
   "metadata": {},
   "outputs": [],
   "source": [
    "payload= {\n",
    "    'client_id': '115052',\n",
    "    'client_secret': str(os.getenv(\"client_secret\")),\n",
    "    'refresh_token': refresh_token, #Defend on the data permissions\n",
    "    'grant_type': \"refresh_token\",\n",
    "    'f': 'json' \n",
    "}\n"
   ]
  },
  {
   "cell_type": "code",
   "execution_count": null,
   "metadata": {},
   "outputs": [],
   "source": [
    "print(\"Requesting Token... \\n\")\n",
    "res = requests.post(auth_url, data=payload, verify=False)\n",
    "access_token = res.json()['access_token']\n",
    "\n",
    "print(\"Access Token = {}\\n\".format(access_token))\n",
    "header = {'Authorization': 'Bearer ' + str(access_token)}"
   ]
  },
  {
   "cell_type": "code",
   "execution_count": null,
   "metadata": {},
   "outputs": [],
   "source": [
    "print(\"Requesting pages (200 activites per full page)... \")\n",
    "\n",
    "activities_df = []\n",
    "\n",
    "page = 1\n",
    "page_non_empty = True\n",
    "\n",
    "while page_non_empty:  \n",
    "    param = {'per_page': 200, 'page': page}\n",
    "    \n",
    "    activities_json = requests.get(activites_url, headers=header, params=param).json()\n",
    "    print(activities_json)\n",
    "    if not activities_json:\n",
    "        page_non_empty=False\n",
    "        break\n",
    "    activities_df.append(pd.json_normalize(activities_json))\n",
    "    \n",
    "    page+=1\n",
    "print(\"\\n\", len(activities_df), \"activties downloaded!\")"
   ]
  },
  {
   "cell_type": "markdown",
   "metadata": {},
   "source": [
    "# Obtain the \"parts\""
   ]
  },
  {
   "cell_type": "code",
   "execution_count": null,
   "metadata": {},
   "outputs": [],
   "source": [
    "df = pd.concat([activities_df[0],activities_df[1]],axis=0, ignore_index=True)"
   ]
  },
  {
   "cell_type": "code",
   "execution_count": null,
   "metadata": {},
   "outputs": [],
   "source": [
    "df.iloc[1:2]"
   ]
  },
  {
   "cell_type": "code",
   "execution_count": null,
   "metadata": {},
   "outputs": [],
   "source": [
    "(df['route_id'])"
   ]
  },
  {
   "cell_type": "code",
   "execution_count": null,
   "metadata": {},
   "outputs": [],
   "source": [
    "df['deviation_heartrate'] = None\n",
    "df['deviation_cadence'] = None\n",
    "#df['deviation_speed'] = None\n"
   ]
  },
  {
   "cell_type": "code",
   "execution_count": null,
   "metadata": {},
   "outputs": [],
   "source": [
    "import numpy as np\n",
    "import time\n",
    "\n",
    "# Define your rate limit values\n",
    "request_limit = 190\n",
    "time_limit = 900  # 15 minutes in seconds\n",
    "\n",
    "# Initialize variables to keep track of requests and timing\n",
    "requests_made = 0\n",
    "start_time = time.time()\n",
    "\n",
    "retry_interval = 60*5  # 60 seconds\n",
    "\n",
    "for index,row in df.iterrows():\n",
    "    #index=9\n",
    "\n",
    "    id = row['id']\n",
    "    print(\"Current Activity ID, \", id)\n",
    "    url = f\"https://www.strava.com/api/v3/activities/{id}/streams\"\n",
    "\n",
    "    #latlong = requests.get(url, headers=header, params={'keys':['latlng']}).json()[0]['data']\n",
    "    #time_list = requests.get(url, headers=header, params={'keys':['time']}).json()[1]['data']\n",
    "    #altitude = requests.get(url, headers=header, params={'keys':['altitude']}).json()[1]['data']\n",
    "    #hr = requests.get(url, headers=header, params={'keys':['heartrate']}).json()[1]['data']\n",
    "\n",
    "\n",
    "\n",
    "    # Devia implementar algo para quase falhasse nao re-começar\n",
    "    # Initialize a flag to track whether data retrieval was successful\n",
    "    data_retrieved = False\n",
    "\n",
    "    while not data_retrieved:\n",
    "        try:\n",
    "            hr = requests.get(url, headers=header, params={'keys': ['heartrate']}).json()[1]['data']\n",
    "            requests_made += 1\n",
    "            df.loc[df['id'] == id, 'deviation_heartrate'] = np.std(hr)\n",
    "            data_retrieved = True  # Set the flag to True when data is successfully retrieved\n",
    "        except (IndexError):\n",
    "            # Handle the case where 'heartrate' data is not present or any other error occurs\n",
    "            hr = None\n",
    "            data_retrieved = True \n",
    "            print('Activity {}, does not have heart rate info.'.format(id)) \n",
    "            \n",
    "            \n",
    "        except KeyError:\n",
    "            print('Retrying in {} seconds...'.format(retry_interval))\n",
    "            time.sleep(retry_interval)\n",
    "\n",
    "\n",
    "    if (row['type'] == 'Run'):\n",
    "        data_retrieved = False  # Reset the flag for cadence data\n",
    "        \n",
    "        while not data_retrieved:\n",
    "            try:\n",
    "                cadence = requests.get(url, headers=header, params={'keys': ['cadence']}).json()[1]['data']\n",
    "                requests_made += 1\n",
    "                df.loc[df['id'] == id, 'deviation_cadence'] = np.std(cadence)\n",
    "                data_retrieved = True  # Set the flag to True when data is successfully retrieved\n",
    "            except (IndexError):\n",
    "                # Handle the case where 'cadence' data is not present\n",
    "                cadence = None\n",
    "                data_retrieved = True \n",
    "                print('Activity {}, does not have cadence info'.format(id))\n",
    "        \n",
    "            except KeyError:\n",
    "                print('Retrying in {} seconds...'.format(retry_interval))\n",
    "                time.sleep(retry_interval)\n",
    "\n",
    "\"\"\"\n",
    "    try:\n",
    "        hr = requests.get(url, headers=header, params={'keys': ['heartrate']}).json()[1]['data']\n",
    "        requests_made += 1\n",
    "        df.loc[df['id'] == id, 'deviation_heartrate'] = np.std(hr)\n",
    "    except (IndexError, KeyError):\n",
    "        # Handle the case where 'heartrate' data is not present or any other error occurs\n",
    "        hr = None\n",
    "        print('Activity {}, does not have heart rate info'.format(id))\n",
    "\n",
    "    if (row['type'] == 'Run'):\n",
    "        try:\n",
    "            cadence = requests.get(url, headers=header, params={'keys':['cadence']}).json()[1]['data']\n",
    "            requests_made += 1\n",
    "            df.loc[df['id']== id ,'deviation_cadence'] = np.std(cadence)\n",
    "        except IndexError:\n",
    "        # Handle the case where 'cadence' data is not present\n",
    "            cadence = None\n",
    "            print('Activity {}, does not have cadence info'.format(id))\n",
    "\"\"\"\n",
    "        \n",
    "    \n",
    "\"\"\"\n",
    "    if requests_made >= request_limit:\n",
    "        # Calculate the time passed since the start\n",
    "        elapsed_time = time.time() - start_time\n",
    "\n",
    "        # If less than the time limit has passed, sleep for the remaining time\n",
    "        if elapsed_time < time_limit:\n",
    "            sleep_time = time_limit - elapsed_time\n",
    "            print(f\"Reached rate limit. Sleeping for {sleep_time} seconds.\")\n",
    "            time.sleep(sleep_time)\n",
    "\n",
    "        # Reset request count and start time\n",
    "        requests_made = 0\n",
    "        start_time = time.time()\n",
    "\"\"\"\n",
    "\n",
    "\"\"\"\n",
    "# Create dataframe to store data 'neatly'\n",
    "data = pd.DataFrame([*latlong], columns=['lat','long'])\n",
    "data['altitude'] = altitude\n",
    "start = datetime.strptime(start_time, \"%Y-%m-%dT%H:%M:%SZ\")\n",
    "data['time'] = [(start+timedelta(seconds=t)) for t in time_list]\n",
    "\n",
    "gpx = gpxpy.gpx.GPX()\n",
    "# Create first track in our GPX:\n",
    "gpx_track = gpxpy.gpx.GPXTrack()\n",
    "gpx.tracks.append(gpx_track)\n",
    "# Create first segment in our GPX track:\n",
    "gpx_segment = gpxpy.gpx.GPXTrackSegment()\n",
    "gpx_track.segments.append(gpx_segment)\n",
    "# Create points:\n",
    "for idx in data.index:\n",
    "    gpx_segment.points.append(gpxpy.gpx.GPXTrackPoint(\n",
    "                data.loc[idx, 'lat'],\n",
    "                data.loc[idx, 'long'],\n",
    "                elevation=data.loc[idx, 'altitude'],\n",
    "                time=data.loc[idx, 'time']\n",
    "    ))\n",
    "# Write data to gpx file\n",
    "with open('Data/{}.gpx'.format(id), 'w') as f:\n",
    "    f.write(gpx.to_xml())\n",
    "\"\"\""
   ]
  },
  {
   "cell_type": "code",
   "execution_count": null,
   "metadata": {},
   "outputs": [],
   "source": [
    "import numpy as np\n",
    "from scipy import stats as sc\n",
    "\n",
    "print(\"Standart deviation: \", np.std(hr[1]['data']))\n",
    "print(\"interquartile range: \", sc.stats.iqr(hr[1]['data']))\n",
    "\n"
   ]
  },
  {
   "cell_type": "code",
   "execution_count": null,
   "metadata": {},
   "outputs": [],
   "source": [
    "df.to_csv(\"my_activities\", sep=',', index=False, encoding='utf-8')"
   ]
  },
  {
   "cell_type": "code",
   "execution_count": null,
   "metadata": {},
   "outputs": [],
   "source": [
    "path_gear = \"/Users/diogogoncalves/Documents/GitProjects/Personal/athletic-analysis/test_tutorial/Data/my_gear\"\n",
    "gear_df = pd.read_csv(path_gear, sep=',')"
   ]
  },
  {
   "cell_type": "code",
   "execution_count": null,
   "metadata": {},
   "outputs": [],
   "source": [
    "gear_df['Name'] = None\n",
    "gear_url = \"https://www.strava.com/api/v3/gear/{}\"\n",
    "for id in gear_df['gear_id'].unique():\n",
    "   \n",
    "    try:\n",
    "        gear_info = requests.get(gear_url.format(id), headers=header).json()\n",
    "        \n",
    "    except:\n",
    "        print(\"Something failed lol\")\n",
    "\n",
    "\n",
    "    gear_df.loc[gear_df['gear_id']== id, 'Name'] = str(gear_info['brand_name'] + \" \" + gear_info['model_name'])"
   ]
  },
  {
   "cell_type": "code",
   "execution_count": null,
   "metadata": {},
   "outputs": [],
   "source": [
    "gear_df.to_csv(\"my_gear\", sep=',', index=False, encoding='utf-8')"
   ]
  },
  {
   "cell_type": "code",
   "execution_count": null,
   "metadata": {},
   "outputs": [],
   "source": []
  }
 ],
 "metadata": {
  "kernelspec": {
   "display_name": "gpx_env",
   "language": "python",
   "name": "python3"
  },
  "language_info": {
   "codemirror_mode": {
    "name": "ipython",
    "version": 3
   },
   "file_extension": ".py",
   "mimetype": "text/x-python",
   "name": "python",
   "nbconvert_exporter": "python",
   "pygments_lexer": "ipython3",
   "version": "3.12.0"
  }
 },
 "nbformat": 4,
 "nbformat_minor": 2
}
