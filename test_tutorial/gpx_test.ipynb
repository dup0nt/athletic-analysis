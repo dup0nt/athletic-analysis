{
 "cells": [
  {
   "cell_type": "code",
   "execution_count": 26,
   "metadata": {},
   "outputs": [],
   "source": [
    "import gpxpy"
   ]
  },
  {
   "cell_type": "code",
   "execution_count": 27,
   "metadata": {},
   "outputs": [],
   "source": [
    "def parse_gpx_file(file_path):\n",
    "    with open(file_path, 'r') as gpx_file:\n",
    "        gpx = gpxpy.parse(gpx_file)\n",
    "        # Access GPX data: waypoints, routes, tracks, etc.\n",
    "        waypoints = gpx.waypoints\n",
    "        tracks = gpx.tracks\n",
    "        # Perform further operations with the data\n",
    "        # ...\n",
    "\n",
    "# Usage example\n",
    "gpx_file_path = '/Users/diogogoncalves/Documents/GitProjects/Personal/athletic-analysis/gpxpy_tutorial/Data/activity_12239483896.gpx'\n",
    "\n",
    "gpx_file = open(gpx_file_path,'r')\n",
    "gpx = gpxpy.parse(gpx_file)\n",
    "#gpx = parse_gpx_file(gpx_file_path)"
   ]
  },
  {
   "cell_type": "markdown",
   "metadata": {},
   "source": [
    "## Distance and Duration"
   ]
  },
  {
   "cell_type": "code",
   "execution_count": 28,
   "metadata": {},
   "outputs": [
    {
     "name": "stdout",
     "output_type": "stream",
     "text": [
      "Distance: 14430.85 meters\n",
      "Duration: 85.93 minutes\n"
     ]
    }
   ],
   "source": [
    "def calculate_track_distance_and_duration():\n",
    "    track = gpx.tracks[0]  # Assuming there is only one track in the GPX file\n",
    "    distance = track.length_3d()  # Calculate total distance\n",
    "    duration = track.get_duration()  # Get total duration in seconds\n",
    "    print(f\"Distance: {distance:.2f} meters\")\n",
    "    print(f\"Duration: {duration/60:.2f} minutes\")\n",
    "\n",
    "calculate_track_distance_and_duration()\n"
   ]
  },
  {
   "cell_type": "markdown",
   "metadata": {},
   "source": [
    "## Average and Standart Deviation"
   ]
  },
  {
   "cell_type": "code",
   "execution_count": 38,
   "metadata": {},
   "outputs": [
    {
     "name": "stdout",
     "output_type": "stream",
     "text": [
      "GPXTrackSegment(points=[...])\n",
      "The average HRM is: 159.65290806754223\n",
      "The standard deviation of HRM is: 9.928429435481641\n"
     ]
    }
   ],
   "source": [
    "import math\n",
    "\n",
    "\n",
    "def calculate_average_hrm():\n",
    "    hr_values = []\n",
    "\n",
    "    for track in gpx.tracks:\n",
    "        for segment in track.segments:\n",
    "            for point in segment.points:\n",
    "                for extension in point.extensions:\n",
    "                    hrm_element = extension.find(\n",
    "                        '{http://www.garmin.com/xmlschemas/TrackPointExtension/v1}hr'\n",
    "                    )\n",
    "                    if hrm_element is not None:\n",
    "                        hrm_value = int(hrm_element.text)\n",
    "                        hr_values.append(hrm_value)\n",
    "\n",
    "\n",
    "    gpx_file.close()\n",
    "\n",
    "    point_count = len(hr_values)\n",
    "    if point_count == 0:\n",
    "        return 0  # Return 0 if no HRM data\n",
    "\n",
    "    average_hrm = sum(hr_values) / point_count\n",
    "    deviation = sum((x - average_hrm) ** 2 for x in hr_values) / point_count\n",
    "    standard_deviation = math.sqrt(deviation)\n",
    "\n",
    "    return average_hrm, standard_deviation\n",
    "\n",
    "\n",
    "# Call the function by passing the GPX filename\n",
    "average_hrm, standard_deviation = calculate_average_hrm()\n",
    "\n",
    "# Print the average HRM value and standard deviation\n",
    "print(f\"The average HRM is: {average_hrm}\")\n",
    "print(f\"The standard deviation of HRM is: {standard_deviation}\")"
   ]
  },
  {
   "cell_type": "code",
   "execution_count": 53,
   "metadata": {},
   "outputs": [
    {
     "ename": "TypeError",
     "evalue": "'list' object is not callable",
     "output_type": "error",
     "traceback": [
      "\u001b[0;31m---------------------------------------------------------------------------\u001b[0m",
      "\u001b[0;31mTypeError\u001b[0m                                 Traceback (most recent call last)",
      "\u001b[1;32m/Users/diogogoncalves/Documents/GitProjects/Personal/athletic-analysis/gpxpy_tutorial/gpx_test.ipynb Cell 7\u001b[0m line \u001b[0;36m1\n\u001b[0;32m----> <a href='vscode-notebook-cell:/Users/diogogoncalves/Documents/GitProjects/Personal/athletic-analysis/gpxpy_tutorial/gpx_test.ipynb#X13sZmlsZQ%3D%3D?line=0'>1</a>\u001b[0m (gpx\u001b[39m.\u001b[39;49mtracks[\u001b[39m0\u001b[39;49m]\u001b[39m.\u001b[39;49msegments[\u001b[39m0\u001b[39;49m]\u001b[39m.\u001b[39;49mpoints[\u001b[39m0\u001b[39;49m]\u001b[39m.\u001b[39;49mextensions(\u001b[39m'\u001b[39;49m\u001b[39m{\u001b[39;49m\u001b[39mhttp://www.garmin.com/xmlschemas/TrackPointExtension/v1}hr\u001b[39;49m\u001b[39m'\u001b[39;49m))\n",
      "\u001b[0;31mTypeError\u001b[0m: 'list' object is not callable"
     ]
    }
   ],
   "source": [
    "(gpx.tracks[0].segments[0].points[0].extensions('{http://www.garmin.com/xmlschemas/TrackPointExtension/v1}hr'))"
   ]
  }
 ],
 "metadata": {
  "kernelspec": {
   "display_name": "gpx_env",
   "language": "python",
   "name": "python3"
  },
  "language_info": {
   "codemirror_mode": {
    "name": "ipython",
    "version": 3
   },
   "file_extension": ".py",
   "mimetype": "text/x-python",
   "name": "python",
   "nbconvert_exporter": "python",
   "pygments_lexer": "ipython3",
   "version": "3.12.0"
  },
  "orig_nbformat": 4
 },
 "nbformat": 4,
 "nbformat_minor": 2
}
